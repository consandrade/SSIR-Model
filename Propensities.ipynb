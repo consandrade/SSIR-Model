{
 "cells": [
  {
   "cell_type": "markdown",
   "metadata": {},
   "source": [
    "# Propensities for the SIR Model\n",
    "\n",
    "In the SIR (Susceptible, Infected, Recovered) model, the propensities describe the rates at which transitions occur between different states (i.e., from susceptible to infected, and from infected to recovered). These propensities are based on parameters like the infection rate and recovery rate.\n",
    "\n",
    "## Table of Propensities\n",
    "\n",
    "| **Transition**          | **Description**                                                            | **Mathematical Expression**         | **Rate**                                      |\n",
    "|-------------------------|----------------------------------------------------------------------------|-------------------------------------|-----------------------------------------------|\n",
    "| **S -> I** (Infection)  | Transition from susceptible to infected individuals                        | $\\beta S I$                        | Infection rate: $\\beta$ (per susceptible and infected pair) |\n",
    "| **I -> R** (Recovery)   | Transition from infected to recovered individuals                         | $\\gamma I$                         | Recovery rate: $\\gamma$ (per infected individual) |\n",
    "| **Total Propensity**    | Total rate at which events occur (sum of all individual propensities)      | $\\beta S I + \\gamma I$             | Sum of the infection and recovery rates       |\n",
    "\n",
    "Where:\n",
    "- $S$ is the number of susceptible individuals\n",
    "- $I$ is the number of infected individuals\n",
    "- $R$ is the number of recovered individuals\n",
    "- $\\beta$ is the infection rate (the rate at which an infected individual transmits the disease to a susceptible individual)\n",
    "- $\\gamma$ is the recovery rate (the rate at which infected individuals recover)\n",
    "\n",
    "## Explanation\n",
    "\n",
    "The propensities are used in the Gillespie algorithm (stochastic simulation) to model the random transitions in the population over time. These rates determine how likely it is for a given event (infection or recovery) to occur at each step of the simulation.\n"
   ]
  }
 ],
 "metadata": {
  "language_info": {
   "name": "python"
  }
 },
 "nbformat": 4,
 "nbformat_minor": 2
}
